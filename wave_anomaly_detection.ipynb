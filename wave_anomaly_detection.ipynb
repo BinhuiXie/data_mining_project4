{
 "cells": [
  {
   "cell_type": "markdown",
   "metadata": {},
   "source": [
    "# Datasets\n",
    "- [wave_benchmarks.zip](https://ir.library.oregonstate.edu/concern/parent/47429f155/file_sets/jh343z59f)\n",
    "\n",
    "\n",
    "# 要求\n",
    "使用[Python Outlier Detection (PyOD)](https://github.com/yzhao062/pyod)或其他已知的工具包来完成分析工作\n",
    "\n",
    "# 提交的内容\n",
    "- 完整的分析代码\n",
    "- 分析报告：展示分析的思路，详细过程，结果及你的分析\n",
    "- 所选择的数据集在README中说明，数据文件不要上传到Github中\n"
   ]
  },
  {
   "cell_type": "code",
   "execution_count": 1,
   "metadata": {},
   "outputs": [],
   "source": [
    "import pandas as pd\n",
    "import os\n",
    "import time\n",
    "import warnings\n",
    "import numpy as np\n",
    "\n",
    "warnings.filterwarnings('ignore')\n",
    "\n",
    "# timekeeping\n",
    "timekeeping = time.time()"
   ]
  },
  {
   "cell_type": "code",
   "execution_count": 2,
   "metadata": {},
   "outputs": [
    {
     "name": "stdout",
     "output_type": "stream",
     "text": [
      "1080\n"
     ]
    }
   ],
   "source": [
    "PAGEB_ROOT = 'wave/benchmarks'\n",
    "benchmark_list = os.listdir(PAGEB_ROOT)\n",
    "print(len(benchmark_list))"
   ]
  },
  {
   "cell_type": "markdown",
   "metadata": {},
   "source": [
    "## 数据来源说明\n",
    "\n",
    "根据论文[1]可知，数据集中会引入4种不同的层次的不相关特征（i.e., noise）。\n",
    "\n",
    "要创建新的不相关特征，首先从原始母集中随机选择一个特征。 然后，对于原始数据集中的每个数据点，通过从原始数据点的值进行统一采样（替换）来为此特征选择一个值。 结果是新添加的特征与某些原始特征具有相同的边缘分布，但是其值不包含有关数据点异常状态的信息。这保留了真实数据的特质，同时允许引入噪声。\n",
    "\n",
    "为了简化确定需要多少不相关特征的过程，如果数据集已经具有$d$维特征，而我们想评估$d^{'}$维，即将成对平均距离增加一个因子$\\alpha$所需的维数，那么\n",
    "\\begin{equation}\n",
    "d^{'} = \\left( \\alpha \\sqrt{d}\\right)^2 ~ ~ ~ ~(1)\\,,\n",
    "\\end{equation}\n",
    "\n",
    "其中$\\alpha \\in \\{1.0, 1.2, 1.5, 2.0\\}$.\n",
    "\n",
    "[1] Emmott A, Das S, Dietterich T G, et al. A Meta-Analysis of the Anomaly Detection Problem[J]. arXiv: Artificial Intelligence, 2015."
   ]
  },
  {
   "cell_type": "markdown",
   "metadata": {},
   "source": [
    "随机选取一个csv文件，确定该数据集的原始特征有哪些？"
   ]
  },
  {
   "cell_type": "code",
   "execution_count": 3,
   "metadata": {},
   "outputs": [
    {
     "name": "stdout",
     "output_type": "stream",
     "text": [
      "<class 'pandas.core.frame.DataFrame'>\n",
      "RangeIndex: 3167 entries, 0 to 3166\n",
      "Data columns (total 90 columns):\n",
      " #   Column          Non-Null Count  Dtype  \n",
      "---  ------          --------------  -----  \n",
      " 0   point.id        3167 non-null   object \n",
      " 1   motherset       3167 non-null   object \n",
      " 2   origin          3167 non-null   object \n",
      " 3   original.label  3167 non-null   int64  \n",
      " 4   diff.score      3167 non-null   float64\n",
      " 5   ground.truth    3167 non-null   object \n",
      " 6   V               3167 non-null   float64\n",
      " 7   V.1             3167 non-null   float64\n",
      " 8   V.2             3167 non-null   float64\n",
      " 9   V.3             3167 non-null   float64\n",
      " 10  V.4             3167 non-null   float64\n",
      " 11  V.5             3167 non-null   float64\n",
      " 12  V.6             3167 non-null   float64\n",
      " 13  V.7             3167 non-null   float64\n",
      " 14  V.8             3167 non-null   float64\n",
      " 15  V.9             3167 non-null   float64\n",
      " 16  V.10            3167 non-null   float64\n",
      " 17  V.11            3167 non-null   float64\n",
      " 18  V.12            3167 non-null   float64\n",
      " 19  V.13            3167 non-null   float64\n",
      " 20  V.14            3167 non-null   float64\n",
      " 21  V.15            3167 non-null   float64\n",
      " 22  V.16            3167 non-null   float64\n",
      " 23  V.17            3167 non-null   float64\n",
      " 24  V.18            3167 non-null   float64\n",
      " 25  V.19            3167 non-null   float64\n",
      " 26  V.20            3167 non-null   float64\n",
      " 27  noise..1        3167 non-null   float64\n",
      " 28  noise..2        3167 non-null   float64\n",
      " 29  noise..3        3167 non-null   float64\n",
      " 30  noise..4        3167 non-null   float64\n",
      " 31  noise..5        3167 non-null   float64\n",
      " 32  noise..6        3167 non-null   float64\n",
      " 33  noise..7        3167 non-null   float64\n",
      " 34  noise..8        3167 non-null   float64\n",
      " 35  noise..9        3167 non-null   float64\n",
      " 36  noise..10       3167 non-null   float64\n",
      " 37  noise..11       3167 non-null   float64\n",
      " 38  noise..12       3167 non-null   float64\n",
      " 39  noise..13       3167 non-null   float64\n",
      " 40  noise..14       3167 non-null   float64\n",
      " 41  noise..15       3167 non-null   float64\n",
      " 42  noise..16       3167 non-null   float64\n",
      " 43  noise..17       3167 non-null   float64\n",
      " 44  noise..18       3167 non-null   float64\n",
      " 45  noise..19       3167 non-null   float64\n",
      " 46  noise..20       3167 non-null   float64\n",
      " 47  noise..21       3167 non-null   float64\n",
      " 48  noise..22       3167 non-null   float64\n",
      " 49  noise..23       3167 non-null   float64\n",
      " 50  noise..24       3167 non-null   float64\n",
      " 51  noise..25       3167 non-null   float64\n",
      " 52  noise..26       3167 non-null   float64\n",
      " 53  noise..27       3167 non-null   float64\n",
      " 54  noise..28       3167 non-null   float64\n",
      " 55  noise..29       3167 non-null   float64\n",
      " 56  noise..30       3167 non-null   float64\n",
      " 57  noise..31       3167 non-null   float64\n",
      " 58  noise..32       3167 non-null   float64\n",
      " 59  noise..33       3167 non-null   float64\n",
      " 60  noise..34       3167 non-null   float64\n",
      " 61  noise..35       3167 non-null   float64\n",
      " 62  noise..36       3167 non-null   float64\n",
      " 63  noise..37       3167 non-null   float64\n",
      " 64  noise..38       3167 non-null   float64\n",
      " 65  noise..39       3167 non-null   float64\n",
      " 66  noise..40       3167 non-null   float64\n",
      " 67  noise..41       3167 non-null   float64\n",
      " 68  noise..42       3167 non-null   float64\n",
      " 69  noise..43       3167 non-null   float64\n",
      " 70  noise..44       3167 non-null   float64\n",
      " 71  noise..45       3167 non-null   float64\n",
      " 72  noise..46       3167 non-null   float64\n",
      " 73  noise..47       3167 non-null   float64\n",
      " 74  noise..48       3167 non-null   float64\n",
      " 75  noise..49       3167 non-null   float64\n",
      " 76  noise..50       3167 non-null   float64\n",
      " 77  noise..51       3167 non-null   float64\n",
      " 78  noise..52       3167 non-null   float64\n",
      " 79  noise..53       3167 non-null   float64\n",
      " 80  noise..54       3167 non-null   float64\n",
      " 81  noise..55       3167 non-null   float64\n",
      " 82  noise..56       3167 non-null   float64\n",
      " 83  noise..57       3167 non-null   float64\n",
      " 84  noise..58       3167 non-null   float64\n",
      " 85  noise..59       3167 non-null   float64\n",
      " 86  noise..60       3167 non-null   float64\n",
      " 87  noise..61       3167 non-null   float64\n",
      " 88  noise..62       3167 non-null   float64\n",
      " 89  noise..63       3167 non-null   float64\n",
      "dtypes: float64(85), int64(1), object(4)\n",
      "memory usage: 2.2+ MB\n"
     ]
    },
    {
     "data": {
      "text/html": [
       "<div>\n",
       "<style scoped>\n",
       "    .dataframe tbody tr th:only-of-type {\n",
       "        vertical-align: middle;\n",
       "    }\n",
       "\n",
       "    .dataframe tbody tr th {\n",
       "        vertical-align: top;\n",
       "    }\n",
       "\n",
       "    .dataframe thead th {\n",
       "        text-align: right;\n",
       "    }\n",
       "</style>\n",
       "<table border=\"1\" class=\"dataframe\">\n",
       "  <thead>\n",
       "    <tr style=\"text-align: right;\">\n",
       "      <th></th>\n",
       "      <th>point.id</th>\n",
       "      <th>motherset</th>\n",
       "      <th>origin</th>\n",
       "      <th>original.label</th>\n",
       "      <th>diff.score</th>\n",
       "      <th>ground.truth</th>\n",
       "      <th>V</th>\n",
       "      <th>V.1</th>\n",
       "      <th>V.2</th>\n",
       "      <th>V.3</th>\n",
       "      <th>...</th>\n",
       "      <th>noise..54</th>\n",
       "      <th>noise..55</th>\n",
       "      <th>noise..56</th>\n",
       "      <th>noise..57</th>\n",
       "      <th>noise..58</th>\n",
       "      <th>noise..59</th>\n",
       "      <th>noise..60</th>\n",
       "      <th>noise..61</th>\n",
       "      <th>noise..62</th>\n",
       "      <th>noise..63</th>\n",
       "    </tr>\n",
       "  </thead>\n",
       "  <tbody>\n",
       "    <tr>\n",
       "      <th>0</th>\n",
       "      <td>wave_point_2031</td>\n",
       "      <td>wave</td>\n",
       "      <td>multiclass</td>\n",
       "      <td>2</td>\n",
       "      <td>0.000419</td>\n",
       "      <td>nominal</td>\n",
       "      <td>0.242400</td>\n",
       "      <td>-0.739089</td>\n",
       "      <td>0.460923</td>\n",
       "      <td>0.345094</td>\n",
       "      <td>...</td>\n",
       "      <td>-0.704685</td>\n",
       "      <td>-0.420880</td>\n",
       "      <td>0.989380</td>\n",
       "      <td>0.245247</td>\n",
       "      <td>-0.553928</td>\n",
       "      <td>-0.128014</td>\n",
       "      <td>-0.304973</td>\n",
       "      <td>1.501803</td>\n",
       "      <td>0.931567</td>\n",
       "      <td>-0.022335</td>\n",
       "    </tr>\n",
       "    <tr>\n",
       "      <th>1</th>\n",
       "      <td>wave_point_2344</td>\n",
       "      <td>wave</td>\n",
       "      <td>multiclass</td>\n",
       "      <td>0</td>\n",
       "      <td>0.133717</td>\n",
       "      <td>anomaly</td>\n",
       "      <td>0.875982</td>\n",
       "      <td>-0.255060</td>\n",
       "      <td>-1.525660</td>\n",
       "      <td>-0.891447</td>\n",
       "      <td>...</td>\n",
       "      <td>0.353467</td>\n",
       "      <td>0.232501</td>\n",
       "      <td>-0.028837</td>\n",
       "      <td>-1.227749</td>\n",
       "      <td>-0.242542</td>\n",
       "      <td>-1.351196</td>\n",
       "      <td>-0.043533</td>\n",
       "      <td>0.437639</td>\n",
       "      <td>-0.276709</td>\n",
       "      <td>0.232039</td>\n",
       "    </tr>\n",
       "    <tr>\n",
       "      <th>2</th>\n",
       "      <td>wave_point_0849</td>\n",
       "      <td>wave</td>\n",
       "      <td>multiclass</td>\n",
       "      <td>2</td>\n",
       "      <td>0.001321</td>\n",
       "      <td>nominal</td>\n",
       "      <td>-0.094190</td>\n",
       "      <td>0.247950</td>\n",
       "      <td>0.090543</td>\n",
       "      <td>-0.863183</td>\n",
       "      <td>...</td>\n",
       "      <td>-1.179651</td>\n",
       "      <td>1.479864</td>\n",
       "      <td>1.491877</td>\n",
       "      <td>0.804384</td>\n",
       "      <td>-0.673693</td>\n",
       "      <td>-0.187520</td>\n",
       "      <td>-0.813721</td>\n",
       "      <td>1.153094</td>\n",
       "      <td>0.599468</td>\n",
       "      <td>-1.386063</td>\n",
       "    </tr>\n",
       "    <tr>\n",
       "      <th>3</th>\n",
       "      <td>wave_point_4662</td>\n",
       "      <td>wave</td>\n",
       "      <td>multiclass</td>\n",
       "      <td>0</td>\n",
       "      <td>0.248145</td>\n",
       "      <td>anomaly</td>\n",
       "      <td>0.658188</td>\n",
       "      <td>0.086607</td>\n",
       "      <td>-0.624964</td>\n",
       "      <td>-0.304973</td>\n",
       "      <td>...</td>\n",
       "      <td>-0.530330</td>\n",
       "      <td>0.955180</td>\n",
       "      <td>-0.696628</td>\n",
       "      <td>-0.818917</td>\n",
       "      <td>1.218581</td>\n",
       "      <td>-0.220579</td>\n",
       "      <td>0.027126</td>\n",
       "      <td>0.455675</td>\n",
       "      <td>0.069522</td>\n",
       "      <td>-0.573479</td>\n",
       "    </tr>\n",
       "    <tr>\n",
       "      <th>4</th>\n",
       "      <td>wave_point_1214</td>\n",
       "      <td>wave</td>\n",
       "      <td>multiclass</td>\n",
       "      <td>1</td>\n",
       "      <td>0.042073</td>\n",
       "      <td>nominal</td>\n",
       "      <td>0.064206</td>\n",
       "      <td>1.851888</td>\n",
       "      <td>0.317821</td>\n",
       "      <td>1.793612</td>\n",
       "      <td>...</td>\n",
       "      <td>-0.211682</td>\n",
       "      <td>1.430366</td>\n",
       "      <td>-0.438768</td>\n",
       "      <td>-1.774862</td>\n",
       "      <td>0.601796</td>\n",
       "      <td>-0.233802</td>\n",
       "      <td>-1.159953</td>\n",
       "      <td>0.485736</td>\n",
       "      <td>-0.644139</td>\n",
       "      <td>0.832644</td>\n",
       "    </tr>\n",
       "  </tbody>\n",
       "</table>\n",
       "<p>5 rows × 90 columns</p>\n",
       "</div>"
      ],
      "text/plain": [
       "          point.id motherset      origin  original.label  diff.score  \\\n",
       "0  wave_point_2031      wave  multiclass               2    0.000419   \n",
       "1  wave_point_2344      wave  multiclass               0    0.133717   \n",
       "2  wave_point_0849      wave  multiclass               2    0.001321   \n",
       "3  wave_point_4662      wave  multiclass               0    0.248145   \n",
       "4  wave_point_1214      wave  multiclass               1    0.042073   \n",
       "\n",
       "  ground.truth         V       V.1       V.2       V.3  ...  noise..54  \\\n",
       "0      nominal  0.242400 -0.739089  0.460923  0.345094  ...  -0.704685   \n",
       "1      anomaly  0.875982 -0.255060 -1.525660 -0.891447  ...   0.353467   \n",
       "2      nominal -0.094190  0.247950  0.090543 -0.863183  ...  -1.179651   \n",
       "3      anomaly  0.658188  0.086607 -0.624964 -0.304973  ...  -0.530330   \n",
       "4      nominal  0.064206  1.851888  0.317821  1.793612  ...  -0.211682   \n",
       "\n",
       "   noise..55  noise..56  noise..57  noise..58  noise..59  noise..60  \\\n",
       "0  -0.420880   0.989380   0.245247  -0.553928  -0.128014  -0.304973   \n",
       "1   0.232501  -0.028837  -1.227749  -0.242542  -1.351196  -0.043533   \n",
       "2   1.479864   1.491877   0.804384  -0.673693  -0.187520  -0.813721   \n",
       "3   0.955180  -0.696628  -0.818917   1.218581  -0.220579   0.027126   \n",
       "4   1.430366  -0.438768  -1.774862   0.601796  -0.233802  -1.159953   \n",
       "\n",
       "   noise..61  noise..62  noise..63  \n",
       "0   1.501803   0.931567  -0.022335  \n",
       "1   0.437639  -0.276709   0.232039  \n",
       "2   1.153094   0.599468  -1.386063  \n",
       "3   0.455675   0.069522  -0.573479  \n",
       "4   0.485736  -0.644139   0.832644  \n",
       "\n",
       "[5 rows x 90 columns]"
      ]
     },
     "execution_count": 3,
     "metadata": {},
     "output_type": "execute_result"
    }
   ],
   "source": [
    "df = pd.read_csv(os.path.join(PAGEB_ROOT, benchmark_list[0]))\n",
    "df.info()\n",
    "df.head()"
   ]
  },
  {
   "cell_type": "markdown",
   "metadata": {},
   "source": [
    "根据以上的信息我们可以确定，pageb这个数据集的原始特征维度$d=21$(``V``, ``V.1``~``V.20``)。因此，由等式（1）可知，所有csv文件所包含的列数可能为$27=\\left(1.0 \\times \\sqrt{21}\\right)^2+6$, $36=\\left(1.2 \\times \\sqrt{21}\\right)^2+6$, $53=\\left(1.5 \\times \\sqrt{21}\\right)^2+6$, $90=\\left(2.0 \\times \\sqrt{21}\\right)^2+6$.\n",
    "\n",
    "下面我们遍历所有csv文件，验证一下。"
   ]
  },
  {
   "cell_type": "code",
   "execution_count": 4,
   "metadata": {},
   "outputs": [
    {
     "name": "stdout",
     "output_type": "stream",
     "text": [
      "Possible columns of all csv files: {90, 27, 36, 53}\n",
      "Total amount: 2632953\n"
     ]
    }
   ],
   "source": [
    "d_set = set()\n",
    "d_count = 0\n",
    "for i in range(len(benchmark_list)):\n",
    "    df = pd.read_csv(os.path.join(PAGEB_ROOT, benchmark_list[i]))\n",
    "    d_set.add(len(df.columns))\n",
    "    d_count += len(df)\n",
    "print('Possible columns of all csv files:', d_set)\n",
    "print('Total amount:', d_count)"
   ]
  },
  {
   "cell_type": "markdown",
   "metadata": {},
   "source": [
    "## 数据特征选择\n",
    "\n",
    "为了充分利用所提供的数据集完成离群点分析与异常检测，将提取所有csv文件共同的特征（即原始特征,``V``, ``V.1``~``V.20``）作为算法或模型的输入，用于检测该条数据是否属于异常点。"
   ]
  },
  {
   "cell_type": "code",
   "execution_count": 5,
   "metadata": {},
   "outputs": [],
   "source": [
    "ORIGIN_FEATURES = ['V', 'V.1', 'V.2', 'V.3', 'V.4', 'V.5', 'V.6', 'V.7', 'V.8', 'V.9','V.10', \n",
    "                   'V.11', 'V.12', 'V.13', 'V.14', 'V.15', 'V.16', 'V.17', 'V.18', 'V.19', 'V.20',\n",
    "                   'ground.truth']\n",
    "def feature_section(benchmark_list):\n",
    "    concat_data = pd.DataFrame()\n",
    "    for i in benchmark_list:\n",
    "        df = pd.read_csv(os.path.join(PAGEB_ROOT, i))\n",
    "        concat_data = concat_data.append(df[ORIGIN_FEATURES])\n",
    "    return concat_data"
   ]
  },
  {
   "cell_type": "code",
   "execution_count": 6,
   "metadata": {},
   "outputs": [
    {
     "name": "stdout",
     "output_type": "stream",
     "text": [
      "<class 'pandas.core.frame.DataFrame'>\n",
      "Int64Index: 2632953 entries, 0 to 3009\n",
      "Data columns (total 22 columns):\n",
      " #   Column        Dtype  \n",
      "---  ------        -----  \n",
      " 0   V             float64\n",
      " 1   V.1           float64\n",
      " 2   V.2           float64\n",
      " 3   V.3           float64\n",
      " 4   V.4           float64\n",
      " 5   V.5           float64\n",
      " 6   V.6           float64\n",
      " 7   V.7           float64\n",
      " 8   V.8           float64\n",
      " 9   V.9           float64\n",
      " 10  V.10          float64\n",
      " 11  V.11          float64\n",
      " 12  V.12          float64\n",
      " 13  V.13          float64\n",
      " 14  V.14          float64\n",
      " 15  V.15          float64\n",
      " 16  V.16          float64\n",
      " 17  V.17          float64\n",
      " 18  V.18          float64\n",
      " 19  V.19          float64\n",
      " 20  V.20          float64\n",
      " 21  ground.truth  object \n",
      "dtypes: float64(21), object(1)\n",
      "memory usage: 462.0+ MB\n"
     ]
    },
    {
     "data": {
      "text/html": [
       "<div>\n",
       "<style scoped>\n",
       "    .dataframe tbody tr th:only-of-type {\n",
       "        vertical-align: middle;\n",
       "    }\n",
       "\n",
       "    .dataframe tbody tr th {\n",
       "        vertical-align: top;\n",
       "    }\n",
       "\n",
       "    .dataframe thead th {\n",
       "        text-align: right;\n",
       "    }\n",
       "</style>\n",
       "<table border=\"1\" class=\"dataframe\">\n",
       "  <thead>\n",
       "    <tr style=\"text-align: right;\">\n",
       "      <th></th>\n",
       "      <th>V</th>\n",
       "      <th>V.1</th>\n",
       "      <th>V.2</th>\n",
       "      <th>V.3</th>\n",
       "      <th>V.4</th>\n",
       "      <th>V.5</th>\n",
       "      <th>V.6</th>\n",
       "      <th>V.7</th>\n",
       "      <th>V.8</th>\n",
       "      <th>V.9</th>\n",
       "      <th>...</th>\n",
       "      <th>V.12</th>\n",
       "      <th>V.13</th>\n",
       "      <th>V.14</th>\n",
       "      <th>V.15</th>\n",
       "      <th>V.16</th>\n",
       "      <th>V.17</th>\n",
       "      <th>V.18</th>\n",
       "      <th>V.19</th>\n",
       "      <th>V.20</th>\n",
       "      <th>ground.truth</th>\n",
       "    </tr>\n",
       "  </thead>\n",
       "  <tbody>\n",
       "    <tr>\n",
       "      <th>0</th>\n",
       "      <td>0.242400</td>\n",
       "      <td>-0.739089</td>\n",
       "      <td>0.460923</td>\n",
       "      <td>0.345094</td>\n",
       "      <td>-1.376929</td>\n",
       "      <td>-0.483581</td>\n",
       "      <td>-0.566436</td>\n",
       "      <td>-0.715453</td>\n",
       "      <td>1.549901</td>\n",
       "      <td>-0.384372</td>\n",
       "      <td>...</td>\n",
       "      <td>-0.096215</td>\n",
       "      <td>-0.067400</td>\n",
       "      <td>0.496507</td>\n",
       "      <td>-1.541132</td>\n",
       "      <td>0.008963</td>\n",
       "      <td>0.183589</td>\n",
       "      <td>0.349544</td>\n",
       "      <td>0.048736</td>\n",
       "      <td>-0.770885</td>\n",
       "      <td>nominal</td>\n",
       "    </tr>\n",
       "    <tr>\n",
       "      <th>1</th>\n",
       "      <td>0.875982</td>\n",
       "      <td>-0.255060</td>\n",
       "      <td>-1.525660</td>\n",
       "      <td>-0.891447</td>\n",
       "      <td>0.011388</td>\n",
       "      <td>0.227481</td>\n",
       "      <td>-0.447375</td>\n",
       "      <td>-0.961720</td>\n",
       "      <td>-1.089468</td>\n",
       "      <td>-0.704319</td>\n",
       "      <td>...</td>\n",
       "      <td>0.024880</td>\n",
       "      <td>0.835951</td>\n",
       "      <td>0.659973</td>\n",
       "      <td>1.325188</td>\n",
       "      <td>0.619760</td>\n",
       "      <td>0.884318</td>\n",
       "      <td>1.619040</td>\n",
       "      <td>2.231220</td>\n",
       "      <td>1.465681</td>\n",
       "      <td>anomaly</td>\n",
       "    </tr>\n",
       "    <tr>\n",
       "      <th>2</th>\n",
       "      <td>-0.094190</td>\n",
       "      <td>0.247950</td>\n",
       "      <td>0.090543</td>\n",
       "      <td>-0.863183</td>\n",
       "      <td>-0.423578</td>\n",
       "      <td>-1.172594</td>\n",
       "      <td>-0.348157</td>\n",
       "      <td>-0.566546</td>\n",
       "      <td>-0.764807</td>\n",
       "      <td>-0.547610</td>\n",
       "      <td>...</td>\n",
       "      <td>0.261017</td>\n",
       "      <td>0.739366</td>\n",
       "      <td>0.768950</td>\n",
       "      <td>-0.386873</td>\n",
       "      <td>0.577843</td>\n",
       "      <td>0.063262</td>\n",
       "      <td>-1.203918</td>\n",
       "      <td>0.677587</td>\n",
       "      <td>-0.730767</td>\n",
       "      <td>nominal</td>\n",
       "    </tr>\n",
       "    <tr>\n",
       "      <th>3</th>\n",
       "      <td>0.658188</td>\n",
       "      <td>0.086607</td>\n",
       "      <td>-0.624964</td>\n",
       "      <td>-0.304973</td>\n",
       "      <td>0.762151</td>\n",
       "      <td>-0.825332</td>\n",
       "      <td>-1.494119</td>\n",
       "      <td>-0.629545</td>\n",
       "      <td>-1.275847</td>\n",
       "      <td>0.242462</td>\n",
       "      <td>...</td>\n",
       "      <td>-0.386845</td>\n",
       "      <td>0.512108</td>\n",
       "      <td>0.407343</td>\n",
       "      <td>0.910979</td>\n",
       "      <td>0.931147</td>\n",
       "      <td>2.030965</td>\n",
       "      <td>2.028285</td>\n",
       "      <td>1.167721</td>\n",
       "      <td>0.462737</td>\n",
       "      <td>anomaly</td>\n",
       "    </tr>\n",
       "    <tr>\n",
       "      <th>4</th>\n",
       "      <td>0.064206</td>\n",
       "      <td>1.851888</td>\n",
       "      <td>0.317821</td>\n",
       "      <td>1.793612</td>\n",
       "      <td>0.791943</td>\n",
       "      <td>1.335416</td>\n",
       "      <td>1.194675</td>\n",
       "      <td>1.374960</td>\n",
       "      <td>-0.079413</td>\n",
       "      <td>0.921532</td>\n",
       "      <td>...</td>\n",
       "      <td>-0.713803</td>\n",
       "      <td>-0.658271</td>\n",
       "      <td>-1.474992</td>\n",
       "      <td>-1.071697</td>\n",
       "      <td>-0.781480</td>\n",
       "      <td>-1.416053</td>\n",
       "      <td>-0.936656</td>\n",
       "      <td>-0.617106</td>\n",
       "      <td>2.288096</td>\n",
       "      <td>nominal</td>\n",
       "    </tr>\n",
       "  </tbody>\n",
       "</table>\n",
       "<p>5 rows × 22 columns</p>\n",
       "</div>"
      ],
      "text/plain": [
       "          V       V.1       V.2       V.3       V.4       V.5       V.6  \\\n",
       "0  0.242400 -0.739089  0.460923  0.345094 -1.376929 -0.483581 -0.566436   \n",
       "1  0.875982 -0.255060 -1.525660 -0.891447  0.011388  0.227481 -0.447375   \n",
       "2 -0.094190  0.247950  0.090543 -0.863183 -0.423578 -1.172594 -0.348157   \n",
       "3  0.658188  0.086607 -0.624964 -0.304973  0.762151 -0.825332 -1.494119   \n",
       "4  0.064206  1.851888  0.317821  1.793612  0.791943  1.335416  1.194675   \n",
       "\n",
       "        V.7       V.8       V.9  ...      V.12      V.13      V.14      V.15  \\\n",
       "0 -0.715453  1.549901 -0.384372  ... -0.096215 -0.067400  0.496507 -1.541132   \n",
       "1 -0.961720 -1.089468 -0.704319  ...  0.024880  0.835951  0.659973  1.325188   \n",
       "2 -0.566546 -0.764807 -0.547610  ...  0.261017  0.739366  0.768950 -0.386873   \n",
       "3 -0.629545 -1.275847  0.242462  ... -0.386845  0.512108  0.407343  0.910979   \n",
       "4  1.374960 -0.079413  0.921532  ... -0.713803 -0.658271 -1.474992 -1.071697   \n",
       "\n",
       "       V.16      V.17      V.18      V.19      V.20  ground.truth  \n",
       "0  0.008963  0.183589  0.349544  0.048736 -0.770885       nominal  \n",
       "1  0.619760  0.884318  1.619040  2.231220  1.465681       anomaly  \n",
       "2  0.577843  0.063262 -1.203918  0.677587 -0.730767       nominal  \n",
       "3  0.931147  2.030965  2.028285  1.167721  0.462737       anomaly  \n",
       "4 -0.781480 -1.416053 -0.936656 -0.617106  2.288096       nominal  \n",
       "\n",
       "[5 rows x 22 columns]"
      ]
     },
     "execution_count": 6,
     "metadata": {},
     "output_type": "execute_result"
    }
   ],
   "source": [
    "concat_data = feature_section(benchmark_list=benchmark_list)\n",
    "concat_data.info()\n",
    "concat_data.head()"
   ]
  },
  {
   "cell_type": "markdown",
   "metadata": {},
   "source": [
    "### 数据集划分\n",
    "train set : test set = 8 : 2 "
   ]
  },
  {
   "cell_type": "code",
   "execution_count": 7,
   "metadata": {},
   "outputs": [],
   "source": [
    "from sklearn.model_selection import train_test_split\n",
    "\n",
    "train, test = train_test_split(concat_data, test_size=0.2, random_state=2020)\n",
    "\n",
    "def data_label_split(data, label_column='ground.truth'):\n",
    "    x = data.drop(label_column, axis=1)\n",
    "    y = []\n",
    "    for i in data[label_column].values:\n",
    "        if i == 'nominal':\n",
    "            y.append(0)\n",
    "        else:\n",
    "            y.append(1)\n",
    "    y = np.array(y)\n",
    "    return x, y\n",
    "\n",
    "X_train, y_train = data_label_split(train)\n",
    "X_test, y_test = data_label_split(test)"
   ]
  },
  {
   "cell_type": "code",
   "execution_count": 8,
   "metadata": {},
   "outputs": [
    {
     "data": {
      "text/plain": [
       "'binary'"
      ]
     },
     "execution_count": 8,
     "metadata": {},
     "output_type": "execute_result"
    }
   ],
   "source": [
    "from sklearn.utils.multiclass import type_of_target\n",
    "type_of_target(y_train)"
   ]
  },
  {
   "cell_type": "markdown",
   "metadata": {},
   "source": [
    "### t-SNE降维，用于可视化"
   ]
  },
  {
   "cell_type": "code",
   "execution_count": 9,
   "metadata": {},
   "outputs": [
    {
     "name": "stdout",
     "output_type": "stream",
     "text": [
      "T-SNE took 1.4e+04 s\n"
     ]
    }
   ],
   "source": [
    "from sklearn.manifold import TSNE\n",
    "# T-SNE Implementation\n",
    "t0 = time.time()\n",
    "X_train_reduced_tsne = TSNE(n_components=2, random_state=2020, init='pca', n_iter=2000).fit_transform(X_train.values)\n",
    "X_test_reduced_tsne = TSNE(n_components=2, random_state=2020, init='pca', n_iter=2000).fit_transform(X_test.values)\n",
    "t1 = time.time()\n",
    "print(\"T-SNE took {:.2} s\".format(t1 - t0))"
   ]
  },
  {
   "cell_type": "markdown",
   "metadata": {},
   "source": [
    "## 模型比较\n",
    "### 单一模型\n",
    "- KNN\n",
    "- PCA\n",
    "- LOF\n",
    "\n",
    "### 组合模型\n",
    "- **Average**: average scores of all detectors\n",
    "- **Maximization**: maximum score across all detectors.\n",
    "- **Average of Maximum (AOM)**\n",
    "- **Maximum of Average (MOA)**\n",
    "\n",
    "ref: https://github.com/yzhao062/pyod/tree/master/examples"
   ]
  },
  {
   "cell_type": "markdown",
   "metadata": {},
   "source": [
    "#### kNN\n",
    "初始化一个 ``pyod.models.knn.KNN`` 检测器, 模型拟合, 然后给出预测。"
   ]
  },
  {
   "cell_type": "code",
   "execution_count": 10,
   "metadata": {},
   "outputs": [],
   "source": [
    "# train the KNN detector\n",
    "from pyod.models.knn import KNN\n",
    "\n",
    "clf_name = 'KNN'\n",
    "clf = KNN()\n",
    "clf.fit(X_train)\n",
    "\n",
    "# get the prediction labels and outlier scores of the training data\n",
    "y_train_pred = clf.labels_  # binary labels (0: inliers, 1: outliers)\n",
    "y_train_scores = clf.decision_scores_  # raw outlier scores\n",
    "\n",
    "# get the prediction on the test data\n",
    "y_test_pred = clf.predict(X_test)  # outlier labels (0 or 1)\n",
    "y_test_scores = clf.decision_function(X_test)  # outlier scores"
   ]
  },
  {
   "cell_type": "markdown",
   "metadata": {},
   "source": [
    "利用 ``ROC`` 和 ``Precision @ Rank`` 评估预测。"
   ]
  },
  {
   "cell_type": "code",
   "execution_count": 11,
   "metadata": {},
   "outputs": [
    {
     "name": "stdout",
     "output_type": "stream",
     "text": [
      "\n",
      "On Training Data:\n",
      "KNN ROC:0.5, precision @ rank n:0.0\n",
      "\n",
      "On Test Data:\n",
      "KNN ROC:0.5, precision @ rank n:0.0\n"
     ]
    }
   ],
   "source": [
    "from pyod.utils.data import evaluate_print\n",
    "# evaluate and print the results\n",
    "print(\"\\nOn Training Data:\")\n",
    "evaluate_print(clf_name, y_train, y_train_scores)\n",
    "print(\"\\nOn Test Data:\")\n",
    "evaluate_print(clf_name, y_test, y_test_scores)"
   ]
  },
  {
   "cell_type": "markdown",
   "metadata": {},
   "source": [
    "可视化 ``KNN``的结果"
   ]
  },
  {
   "cell_type": "code",
   "execution_count": 12,
   "metadata": {},
   "outputs": [
    {
     "data": {
      "image/png": "[encoded data removed]",
      "text/plain": [
       "<Figure size 864x720 with 4 Axes>"
      ]
     },
     "metadata": {},
     "output_type": "display_data"
    }
   ],
   "source": [
    "from pyod.utils.example import visualize\n",
    "visualize(clf_name, X_train_reduced_tsne, y_train, X_test_reduced_tsne, y_test, y_train_pred,\n",
    "          y_test_pred, show_figure=True, save_figure=False)"
   ]
  },
  {
   "cell_type": "markdown",
   "metadata": {},
   "source": [
    "#### PCA\n",
    "初始化一个 ``pyod.models.pca.PCA`` 检测器, 模型拟合, 然后给出预测。"
   ]
  },
  {
   "cell_type": "code",
   "execution_count": 13,
   "metadata": {},
   "outputs": [],
   "source": [
    "# train PCA detector\n",
    "from pyod.models.pca import PCA\n",
    "\n",
    "clf_name = 'PCA'\n",
    "clf = PCA(n_components=3)\n",
    "clf.fit(X_train)\n",
    "\n",
    "# get the prediction labels and outlier scores of the training data\n",
    "y_train_pred = clf.labels_  # binary labels (0: inliers, 1: outliers)\n",
    "y_train_scores = clf.decision_scores_  # raw outlier scores\n",
    "\n",
    "# get the prediction on the test data\n",
    "y_test_pred = clf.predict(X_test)  # outlier labels (0 or 1)\n",
    "y_test_scores = clf.decision_function(X_test)  # outlier scores"
   ]
  },
  {
   "cell_type": "markdown",
   "metadata": {},
   "source": [
    "利用 ``ROC`` 和 ``Precision @ Rank`` 评估预测"
   ]
  },
  {
   "cell_type": "code",
   "execution_count": 14,
   "metadata": {},
   "outputs": [
    {
     "name": "stdout",
     "output_type": "stream",
     "text": [
      "\n",
      "On Training Data:\n",
      "PCA ROC:0.6463, precision @ rank n:0.1699\n",
      "\n",
      "On Test Data:\n",
      "PCA ROC:0.6472, precision @ rank n:0.1726\n"
     ]
    }
   ],
   "source": [
    "# evaluate and print the results\n",
    "print(\"\\nOn Training Data:\")\n",
    "evaluate_print(clf_name, y_train, y_train_scores)\n",
    "print(\"\\nOn Test Data:\")\n",
    "evaluate_print(clf_name, y_test, y_test_scores)"
   ]
  },
  {
   "cell_type": "markdown",
   "metadata": {},
   "source": [
    "可视化 ``PCA`` 的结果"
   ]
  },
  {
   "cell_type": "code",
   "execution_count": 15,
   "metadata": {},
   "outputs": [
    {
     "data": {
      "image/png": "[encoded data removed]",
      "text/plain": [
       "<Figure size 864x720 with 4 Axes>"
      ]
     },
     "metadata": {},
     "output_type": "display_data"
    }
   ],
   "source": [
    "visualize(clf_name, X_train_reduced_tsne, y_train, X_test_reduced_tsne, y_test, y_train_pred,\n",
    "          y_test_pred, show_figure=True, save_figure=False)"
   ]
  },
  {
   "cell_type": "markdown",
   "metadata": {},
   "source": [
    "#### LOF\n",
    "初始化一个 ``pyod.models.lof.LOF`` 检测器, 模型拟合, 然后给出预测。"
   ]
  },
  {
   "cell_type": "code",
   "execution_count": 16,
   "metadata": {},
   "outputs": [],
   "source": [
    "# train LOF detector\n",
    "from pyod.models.lof import LOF\n",
    "clf_name = 'LOF'\n",
    "clf = LOF()\n",
    "clf.fit(X_train)\n",
    "\n",
    "# get the prediction labels and outlier scores of the training data\n",
    "y_train_pred = clf.labels_  # binary labels (0: inliers, 1: outliers)\n",
    "y_train_scores = clf.decision_scores_  # raw outlier scores\n",
    "\n",
    "# get the prediction on the test data\n",
    "y_test_pred = clf.predict(X_test)  # outlier labels (0 or 1)\n",
    "y_test_scores = clf.decision_function(X_test)  # outlier scores"
   ]
  },
  {
   "cell_type": "markdown",
   "metadata": {},
   "source": [
    "利用 ``ROC`` 和 ``Precision @ Rank`` 评估预测"
   ]
  },
  {
   "cell_type": "code",
   "execution_count": 17,
   "metadata": {},
   "outputs": [
    {
     "name": "stdout",
     "output_type": "stream",
     "text": [
      "\n",
      "On Training Data:\n",
      "LOF ROC:0.5, precision @ rank n:0.0\n",
      "\n",
      "On Test Data:\n",
      "LOF ROC:0.5, precision @ rank n:0.0\n"
     ]
    }
   ],
   "source": [
    "# evaluate and print the results\n",
    "print(\"\\nOn Training Data:\")\n",
    "evaluate_print(clf_name, y_train, y_train_scores)\n",
    "print(\"\\nOn Test Data:\")\n",
    "evaluate_print(clf_name, y_test, y_test_scores)"
   ]
  },
  {
   "cell_type": "markdown",
   "metadata": {},
   "source": [
    "可视化 ``LOF`` 的结果"
   ]
  },
  {
   "cell_type": "code",
   "execution_count": 18,
   "metadata": {},
   "outputs": [
    {
     "data": {
      "image/png": "[encoded data removed]",
      "text/plain": [
       "<Figure size 864x720 with 4 Axes>"
      ]
     },
     "metadata": {},
     "output_type": "display_data"
    }
   ],
   "source": [
    "# visualize the results\n",
    "visualize(clf_name, X_train_reduced_tsne, y_train, X_test_reduced_tsne, y_test, y_train_pred,\n",
    "          y_test_pred, show_figure=True, save_figure=False)"
   ]
  },
  {
   "cell_type": "markdown",
   "metadata": {},
   "source": [
    "#### Model Combination\n",
    "用不同的k(10 ～ 200)初始化20个 ``kNN`` 离群点检测器，然后得到所有的离群点的分数。"
   ]
  },
  {
   "cell_type": "code",
   "execution_count": 19,
   "metadata": {},
   "outputs": [],
   "source": [
    "from pyod.models.knn import KNN  # kNN detector\n",
    "from pyod.models.combination import aom, moa, average, maximization\n",
    "from pyod.utils.utility import standardizer"
   ]
  },
  {
   "cell_type": "code",
   "execution_count": 20,
   "metadata": {},
   "outputs": [
    {
     "name": "stdout",
     "output_type": "stream",
     "text": [
      "Combining 20 kNN detectors\n"
     ]
    }
   ],
   "source": [
    "# standardizing data for processing\n",
    "X_train_norm, X_test_norm = standardizer(X_train, X_test)\n",
    "\n",
    "n_clf = 20  # number of base detectors\n",
    "\n",
    "# initialize 20 base detectors for combination\n",
    "k_list = [10, 20, 30, 40, 50, 60, 70, 80, 90, 100, 110, 120, 130, 140, 150, 160, 170, 180, 190, 200]\n",
    "\n",
    "train_scores = np.zeros([X_train.shape[0], n_clf])\n",
    "test_scores = np.zeros([X_test.shape[0], n_clf])\n",
    "\n",
    "print('Combining {n_clf} kNN detectors'.format(n_clf=n_clf))\n",
    "\n",
    "for i in range(n_clf):\n",
    "    k = k_list[i]\n",
    "\n",
    "    clf = KNN(n_neighbors=k, method='largest')\n",
    "    clf.fit(X_train_norm)\n",
    "\n",
    "    train_scores[:, i] = clf.decision_scores_\n",
    "    test_scores[:, i] = clf.decision_function(X_test_norm)"
   ]
  },
  {
   "cell_type": "code",
   "execution_count": 21,
   "metadata": {},
   "outputs": [],
   "source": [
    "# Decision scores have to be normalized before combination\n",
    "train_scores_norm, test_scores_norm = standardizer(train_scores, test_scores)\n",
    "\n",
    "# Combination by average\n",
    "y_by_average = average(test_scores_norm)\n",
    "# Combination by max\n",
    "y_by_maximization = maximization(test_scores_norm)\n",
    "# Combination by aom\n",
    "y_by_aom = aom(test_scores_norm, n_buckets=5)\n",
    "# Combination by moa\n",
    "y_by_moa = moa(test_scores_norm, n_buckets=5)"
   ]
  },
  {
   "cell_type": "code",
   "execution_count": 22,
   "metadata": {},
   "outputs": [
    {
     "name": "stdout",
     "output_type": "stream",
     "text": [
      "\n",
      "On Test Data:\n",
      "Combination by Average ROC:0.8717, precision @ rank n:1.0\n",
      "Combination by Maximization ROC:0.8717, precision @ rank n:1.0\n",
      "Combination by AOM ROC:0.8717, precision @ rank n:1.0\n",
      "Combination by MOA ROC:0.8717, precision @ rank n:1.0\n"
     ]
    }
   ],
   "source": [
    "print(\"\\nOn Test Data:\")\n",
    "evaluate_print('Combination by Average', y_test, y_by_average)\n",
    "evaluate_print('Combination by Maximization', y_test, y_by_maximization)\n",
    "evaluate_print('Combination by AOM', y_test, y_by_aom)\n",
    "evaluate_print('Combination by MOA', y_test, y_by_moa)"
   ]
  },
  {
   "cell_type": "code",
   "execution_count": 23,
   "metadata": {},
   "outputs": [
    {
     "name": "stdout",
     "output_type": "stream",
     "text": [
      "run time: 06:26:56\n"
     ]
    }
   ],
   "source": [
    "m, s = divmod(time.time()-timekeeping, 60)\n",
    "h, m = divmod(m, 60)\n",
    "print ('run time: %02d:%02d:%02d' % (h, m, s))"
   ]
  }
 ],
 "metadata": {
  "kernelspec": {
   "display_name": "Python 3",
   "language": "python",
   "name": "python3"
  },
  "language_info": {
   "codemirror_mode": {
    "name": "ipython",
    "version": 3
   },
   "file_extension": ".py",
   "mimetype": "text/x-python",
   "name": "python",
   "nbconvert_exporter": "python",
   "pygments_lexer": "ipython3",
   "version": "3.7.6"
  }
 },
 "nbformat": 4,
 "nbformat_minor": 4
}
